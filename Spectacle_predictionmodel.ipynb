{
  "nbformat": 4,
  "nbformat_minor": 0,
  "metadata": {
    "colab": {
      "provenance": [],
      "authorship_tag": "ABX9TyMRWyTz/EgI3DpWmPj0p4fs",
      "include_colab_link": true
    },
    "kernelspec": {
      "name": "python3",
      "display_name": "Python 3"
    },
    "language_info": {
      "name": "python"
    }
  },
  "cells": [
    {
      "cell_type": "markdown",
      "metadata": {
        "id": "view-in-github",
        "colab_type": "text"
      },
      "source": [
        "<a href=\"https://colab.research.google.com/github/Abhinavband/Predictionmodel/blob/main/Spectacle_predictionmodel.ipynb\" target=\"_parent\"><img src=\"https://colab.research.google.com/assets/colab-badge.svg\" alt=\"Open In Colab\"/></a>"
      ]
    },
    {
      "cell_type": "code",
      "execution_count": 14,
      "metadata": {
        "colab": {
          "base_uri": "https://localhost:8080/"
        },
        "id": "QSn0jzK3BodP",
        "outputId": "ecbd081e-c8b3-4bcd-aade-6259f9039a20"
      },
      "outputs": [
        {
          "output_type": "stream",
          "name": "stdout",
          "text": [
            "Model Accuracy: 72.50%\n",
            "Enter Age: 57\n",
            "Enter SPH value: 1.89\n",
            "Enter CYL value: -2.72\n",
            "Enter Axis value: 49\n",
            "Spectacles Required: No\n"
          ]
        }
      ],
      "source": [
        "import pandas as pd\n",
        "from sklearn.model_selection import train_test_split\n",
        "from sklearn.ensemble import RandomForestClassifier\n",
        "from sklearn.metrics import accuracy_score\n",
        "\n",
        "# Load dataset from CSV\n",
        "df = pd.read_csv(\"/content/Spectacle_data.csv\")\n",
        "df=pd.DataFrame(df)\n",
        "\n",
        "# Split features and target\n",
        "X = df[['Age', 'SPH', 'CYL', 'Axis']]\n",
        "y = df['Spectacles_Required']\n",
        "\n",
        "# Split data into training and testing sets\n",
        "X_train, X_test, y_train, y_test = train_test_split(X, y, test_size=0.2, random_state=42)\n",
        "\n",
        "# Train a simple model\n",
        "model = RandomForestClassifier(n_estimators=10, random_state=42)\n",
        "model.fit(X_train, y_train)\n",
        "\n",
        "# Make predictions\n",
        "y_pred = model.predict(X_test)\n",
        "\n",
        "# Evaluate the model\n",
        "accuracy = accuracy_score(y_test, y_pred)\n",
        "print(f\"Model Accuracy: {accuracy * 100:.2f}%\")\n",
        "\n",
        "# Taking user input from terminal\n",
        "age = float(input(\"Enter Age: \"))\n",
        "sph = float(input(\"Enter SPH value: \"))\n",
        "cyl = float(input(\"Enter CYL value: \"))\n",
        "axis = float(input(\"Enter Axis value: \"))\n",
        "\n",
        "# Creating a DataFrame for user input\n",
        "new_data = pd.DataFrame({'Age': [age], 'SPH': [sph], 'CYL': [cyl], 'Axis': [axis]})\n",
        "\n",
        "# Making prediction\n",
        "prediction = model.predict(new_data)\n",
        "print(\"Spectacles Required:\", \"Yes\" if prediction[0] == 1 else \"No\")\n"
      ]
    }
  ]
}